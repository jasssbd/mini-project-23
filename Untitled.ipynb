{
  "nbformat": 4,
  "nbformat_minor": 0,
  "metadata": {
    "colab": {
      "provenance": [],
      "include_colab_link": true
    },
    "kernelspec": {
      "name": "python3",
      "display_name": "Python 3"
    },
    "language_info": {
      "name": "python"
    }
  },
  "cells": [
    {
      "cell_type": "markdown",
      "metadata": {
        "id": "view-in-github",
        "colab_type": "text"
      },
      "source": [
        "<a href=\"https://colab.research.google.com/github/jasssbd/mini-project-23/blob/main/Untitled.ipynb\" target=\"_parent\"><img src=\"https://colab.research.google.com/assets/colab-badge.svg\" alt=\"Open In Colab\"/></a>"
      ]
    },
    {
      "cell_type": "code",
      "execution_count": 1,
      "metadata": {
        "colab": {
          "base_uri": "https://localhost:8080/"
        },
        "id": "syiA1tzSIQI4",
        "outputId": "9b3c7568-657c-4df2-fde1-d2722a1eac28"
      },
      "outputs": [
        {
          "output_type": "stream",
          "name": "stdout",
          "text": [
            "Collecting icrawler\n",
            "  Downloading icrawler-0.6.10-py3-none-any.whl.metadata (6.2 kB)\n",
            "Requirement already satisfied: beautifulsoup4 in /usr/local/lib/python3.11/dist-packages (from icrawler) (4.13.4)\n",
            "Collecting bs4 (from icrawler)\n",
            "  Downloading bs4-0.0.2-py2.py3-none-any.whl.metadata (411 bytes)\n",
            "Requirement already satisfied: lxml in /usr/local/lib/python3.11/dist-packages (from icrawler) (5.4.0)\n",
            "Requirement already satisfied: pillow in /usr/local/lib/python3.11/dist-packages (from icrawler) (11.2.1)\n",
            "Requirement already satisfied: pyyaml in /usr/local/lib/python3.11/dist-packages (from icrawler) (6.0.2)\n",
            "Requirement already satisfied: requests in /usr/local/lib/python3.11/dist-packages (from icrawler) (2.32.3)\n",
            "Requirement already satisfied: six in /usr/local/lib/python3.11/dist-packages (from icrawler) (1.17.0)\n",
            "Requirement already satisfied: soupsieve>1.2 in /usr/local/lib/python3.11/dist-packages (from beautifulsoup4->icrawler) (2.7)\n",
            "Requirement already satisfied: typing-extensions>=4.0.0 in /usr/local/lib/python3.11/dist-packages (from beautifulsoup4->icrawler) (4.14.1)\n",
            "Requirement already satisfied: charset-normalizer<4,>=2 in /usr/local/lib/python3.11/dist-packages (from requests->icrawler) (3.4.2)\n",
            "Requirement already satisfied: idna<4,>=2.5 in /usr/local/lib/python3.11/dist-packages (from requests->icrawler) (3.10)\n",
            "Requirement already satisfied: urllib3<3,>=1.21.1 in /usr/local/lib/python3.11/dist-packages (from requests->icrawler) (2.4.0)\n",
            "Requirement already satisfied: certifi>=2017.4.17 in /usr/local/lib/python3.11/dist-packages (from requests->icrawler) (2025.7.14)\n",
            "Downloading icrawler-0.6.10-py3-none-any.whl (36 kB)\n",
            "Downloading bs4-0.0.2-py2.py3-none-any.whl (1.2 kB)\n",
            "Installing collected packages: bs4, icrawler\n",
            "Successfully installed bs4-0.0.2 icrawler-0.6.10\n"
          ]
        }
      ],
      "source": [
        "!pip install icrawler"
      ]
    },
    {
      "cell_type": "code",
      "source": [
        "\n",
        "from icrawler.builtin import BingImageCrawler\n",
        "\n",
        "crawler = BingImageCrawler(storage={'root_dir': 'dog_images'})\n",
        "crawler.crawl(keyword='dog', max_num=100)"
      ],
      "metadata": {
        "colab": {
          "base_uri": "https://localhost:8080/"
        },
        "id": "yPsRz3BxISJq",
        "outputId": "f79b5249-e003-40f7-99f0-fcf13037d2e7"
      },
      "execution_count": 2,
      "outputs": [
        {
          "output_type": "stream",
          "name": "stderr",
          "text": [
            "ERROR:downloader:Response status code 403, file https://www.guidedogs.org/wp-content/uploads/2018/01/Mobile.jpg\n",
            "ERROR:downloader:Response status code 403, file https://www.hartz.com/wp-content/uploads/2022/04/small-dog-owners-1.jpg\n",
            "ERROR:downloader:Response status code 403, file https://www.animalia-life.club/data_images/dog/dog2.jpg\n",
            "ERROR:downloader:Exception caught when downloading file https://pameranian.com/wp-content/uploads/2023/06/Doberman-dog-6.jpg, error: HTTPSConnectionPool(host='pameranian.com', port=443): Max retries exceeded with url: /wp-content/uploads/2023/06/Doberman-dog-6.jpg (Caused by ConnectTimeoutError(<urllib3.connection.HTTPSConnection object at 0x7c90680fc210>, 'Connection to pameranian.com timed out. (connect timeout=5)')), remaining retry times: 2\n",
            "ERROR:downloader:Exception caught when downloading file https://pameranian.com/wp-content/uploads/2023/06/Doberman-dog-6.jpg, error: HTTPSConnectionPool(host='pameranian.com', port=443): Max retries exceeded with url: /wp-content/uploads/2023/06/Doberman-dog-6.jpg (Caused by ConnectTimeoutError(<urllib3.connection.HTTPSConnection object at 0x7c90681ce8d0>, 'Connection to pameranian.com timed out. (connect timeout=5)')), remaining retry times: 1\n",
            "ERROR:downloader:Exception caught when downloading file https://pameranian.com/wp-content/uploads/2023/06/Doberman-dog-6.jpg, error: HTTPSConnectionPool(host='pameranian.com', port=443): Max retries exceeded with url: /wp-content/uploads/2023/06/Doberman-dog-6.jpg (Caused by ConnectTimeoutError(<urllib3.connection.HTTPSConnection object at 0x7c905415f050>, 'Connection to pameranian.com timed out. (connect timeout=5)')), remaining retry times: 0\n",
            "ERROR:downloader:Response status code 403, file http://www.howitworksdaily.com/wp-content/uploads/2015/08/Dog-anatomy.jpg\n"
          ]
        }
      ]
    },
    {
      "cell_type": "code",
      "source": [
        "import cv2\n",
        "import os\n",
        "\n",
        "input_folder = \"dog_images\"\n",
        "output_folder = \"dog_images_gray\"\n",
        "os.makedirs(output_folder, exist_ok=True)\n",
        "\n",
        "files = os.listdir(input_folder)\n",
        "\n",
        "for f in files[:100]:\n",
        "    img = cv2.imread(os.path.join(input_folder, f))\n",
        "    if img is None:\n",
        "        continue\n",
        "    gray = cv2.cvtColor(img, cv2.COLOR_BGR2GRAY)\n",
        "    cv2.imwrite(os.path.join(output_folder, f), gray)\n"
      ],
      "metadata": {
        "id": "sg02bdMzIARw"
      },
      "execution_count": 3,
      "outputs": []
    }
  ]
}